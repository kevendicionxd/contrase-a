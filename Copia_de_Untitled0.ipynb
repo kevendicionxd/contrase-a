{
  "nbformat": 4,
  "nbformat_minor": 0,
  "metadata": {
    "colab": {
      "provenance": [],
      "authorship_tag": "ABX9TyM0xUHHa/pmKd3dd7pBBKKR",
      "include_colab_link": true
    },
    "kernelspec": {
      "name": "python3",
      "display_name": "Python 3"
    },
    "language_info": {
      "name": "python"
    }
  },
  "cells": [
    {
      "cell_type": "markdown",
      "metadata": {
        "id": "view-in-github",
        "colab_type": "text"
      },
      "source": [
        "<a href=\"https://colab.research.google.com/github/kevendicionxd/contrase-a/blob/main/Copia_de_Untitled0.ipynb\" target=\"_parent\"><img src=\"https://colab.research.google.com/assets/colab-badge.svg\" alt=\"Open In Colab\"/></a>"
      ]
    },
    {
      "cell_type": "code",
      "source": [
        "from typing_extensions import Counter\n",
        "#generdor de contraseñas\n",
        "import re\n",
        "import secrets\n",
        "import string\n",
        "def generar_contraseña(longitud, nums, caracteres_especiales, mayusculas, minusculas):\n",
        "# Define los posibles caracteres para la contraseña\n",
        "  letras = string.ascii_letters\n",
        "  digitos = string.digits\n",
        "  simbolos = string.punctuation\n",
        "\n",
        "  # Combina todos los caracteres\n",
        "  todos_los_caracteres = letras + digitos + simbolos\n",
        "  while True:\n",
        "        contraseña = ''\n",
        "        # Genera la contraseña\n",
        "        for _ in range(longitud):\n",
        "            contraseña += secrets.choice(todos_los_caracteres)\n",
        "\n",
        "        restricciones = [\n",
        "            (nums, r'\\d'),\n",
        "            (minusculas, r'[a-z]'),\n",
        "            (mayusculas, r'[A-Z]'),\n",
        "            (caracteres_especiales, fr'[{simbolos}]')\n",
        "        ]\n",
        "\n",
        "        # Verifica las restricciones\n",
        "        Count = 0\n",
        "        for restriccion, patron in restricciones:\n",
        "            if restriccion <= len(re.findall(patron, contraseña)):\n",
        "                Count += 1\n",
        "\n",
        "        if Count == 4:\n",
        "            break\n",
        "\n",
        "  return contraseña\n",
        "\n",
        "nueva_contraseña = generar_contraseña(8, 2, 2, 2, 2)\n",
        "print(nueva_contraseña)\n"
      ],
      "metadata": {
        "colab": {
          "base_uri": "https://localhost:8080/"
        },
        "id": "XOwznDEY66LG",
        "outputId": "8108bcfd-7e38-4fb5-e4f5-63c81796a67c"
      },
      "execution_count": 18,
      "outputs": [
        {
          "output_type": "stream",
          "name": "stdout",
          "text": [
            ":8ci.Q5P\n"
          ]
        }
      ]
    },
    {
      "cell_type": "code",
      "source": [
        "def main():\n",
        "  pass"
      ],
      "metadata": {
        "id": "AhHmjyJICpEA"
      },
      "execution_count": 22,
      "outputs": []
    },
    {
      "cell_type": "code",
      "source": [
        "def main():\n",
        " print('Bienvenidos al generador automatico de contraseña en Google Colab y Python\\n')\n",
        " longitud = input('Digite la longitud de su contraseña:  ' )\n",
        " numeros = input('Digite la cantidad de numeros que desea en su contraseña:  ')\n",
        " caracteres_especiales = input('Digite la cantidad de caracteres especiales que desea en su contraseña:  ')\n",
        " mayusculas = input('Digite la cantidad de mayusculas que desea en su contraseña:  ')\n",
        " minusculas = input('Digite la cantidaad de minusculas que desea en su contraseña: ')\n",
        "\n",
        " if longitud.isdigit() and numeros.isdigit() and caracteres_especiales.isdigit() and mayusculas.isdigit() and minusculas.isdigit():\n",
        "   long = int(longitud)\n",
        "   nums = int(numeros)\n",
        "   chars = int(caracteres_especiales)\n",
        "   mayus = int(mayusculas)\n",
        "   minus = int(minusculas)\n",
        "   password = generar_contraseña(long, nums, chars, mayus, minus)\n",
        "   print(f'La nueva contraseña generada es: [password] ' )\n",
        " else:\n",
        "  print('favor de escribir numeros enteros. ')\n",
        "  main()"
      ],
      "metadata": {
        "id": "Xk7aUldJC6Tv"
      },
      "execution_count": 23,
      "outputs": []
    },
    {
      "cell_type": "code",
      "source": [
        "main()"
      ],
      "metadata": {
        "colab": {
          "base_uri": "https://localhost:8080/"
        },
        "id": "xJSGi4v1DAjG",
        "outputId": "0bef4a3e-70e4-415e-c514-fa8938c1a06b"
      },
      "execution_count": 24,
      "outputs": [
        {
          "output_type": "stream",
          "name": "stdout",
          "text": [
            "Bienvenidos al generador automatico de contraseña en Google Colab y Python\n",
            "\n",
            "Digite la longitud de su contraseña:  12\n",
            "Digite la cantidad de numeros que desea en su contraseña:  4\n",
            "Digite la cantidad de caracteres especiales que desea en su contraseña:  4\n",
            "Digite la cantidad de mayusculas que desea en su contraseña:  2\n",
            "Digite la cantidaad de minusculas que desea en su contraseña: 2\n",
            "La nueva contraseña generada es: [password] \n"
          ]
        }
      ]
    }
  ]
}